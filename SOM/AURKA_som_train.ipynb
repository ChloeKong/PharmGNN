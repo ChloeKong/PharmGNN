{
 "cells": [
  {
   "cell_type": "markdown",
   "metadata": {},
   "source": []
  },
  {
   "cell_type": "code",
   "execution_count": 7,
   "metadata": {},
   "outputs": [],
   "source": [
    "model_name = 'ReduceAFP' # 'change name here\n",
    "dim = 256"
   ]
  },
  {
   "cell_type": "code",
   "execution_count": 8,
   "metadata": {},
   "outputs": [],
   "source": [
    "from minisom import MiniSom\n",
    "import pandas as pd\n",
    "import numpy as np\n",
    "import pickle\n",
    "import matplotlib.pyplot as plt\n",
    "import rdkit\n",
    "from rdkit import Chem, DataStructs\n",
    "from rdkit.Chem import Draw, AllChem\n",
    "%matplotlib inline"
   ]
  },
  {
   "cell_type": "markdown",
   "metadata": {},
   "source": [
    "# data process"
   ]
  },
  {
   "cell_type": "code",
   "execution_count": 9,
   "metadata": {},
   "outputs": [],
   "source": [
    "path = '/home/kongyue/private-kongyue/paper-RGNN/SOM/fingerprints/' + model_name + '_test.csv'\n",
    "df = pd.read_csv(path)\n",
    "df['confusion'] = np.NAN\n",
    "sample_num = df.shape[0]\n",
    "tp_sel = (df['Serine_threonine-protein_kinase_Aurora-A'] == 1) & (df['pred'] == 1)\n",
    "tn_sel = (df['Serine_threonine-protein_kinase_Aurora-A'] == 0) & (df['pred'] == 0)\n",
    "fp_sel = (df['Serine_threonine-protein_kinase_Aurora-A'] == 0) & (df['pred'] == 1)\n",
    "fn_sel = (df['Serine_threonine-protein_kinase_Aurora-A'] == 1) & (df['pred'] == 0)\n",
    "df.loc[tp_sel,'confusion'] = 0\n",
    "df.loc[tn_sel,'confusion'] = 1\n",
    "df.loc[fp_sel,'confusion'] = 2\n",
    "df.loc[fn_sel,'confusion'] = 3\n",
    "df.confusion = df.confusion.astype(int)"
   ]
  },
  {
   "cell_type": "code",
   "execution_count": 10,
   "metadata": {},
   "outputs": [],
   "source": [
    "fps = df.iloc[:, 5:-1].values\n",
    "ys = df['Serine_threonine-protein_kinase_Aurora-A'].values\n",
    "y_preds = df['pred'].values\n",
    "confusions = df['confusion'].values\n",
    "label_names = {0:'TP',1:'TN',2:'FP',3:'FN'}\n",
    "colors = ['C0', 'C1', 'C2', 'C3']"
   ]
  },
  {
   "cell_type": "code",
   "execution_count": 12,
   "metadata": {},
   "outputs": [
    {
     "name": "stderr",
     "output_type": "stream",
     "text": [
      "/home/kongyue/anaconda3/envs/t/lib/python3.7/site-packages/minisom.py:370: ComplexWarning: Casting complex values to real discards the imaginary part\n",
      "  self._weights[i, j] = c1*pc[pc_order[0]] + c2*pc[pc_order[1]]\n"
     ]
    }
   ],
   "source": [
    "n_neurons = 10\n",
    "m_neurons = 10\n",
    "som = MiniSom(n_neurons,m_neurons,dim, sigma=1.5, learning_rate=0.5,\n",
    "            neighborhood_function='gaussian', random_seed=0)\n",
    "som.pca_weights_init(fps)\n",
    "som.train(fps,100000)\n"
   ]
  },
  {
   "cell_type": "markdown",
   "metadata": {},
   "source": [
    "# save model"
   ]
  },
  {
   "cell_type": "code",
   "execution_count": 13,
   "metadata": {},
   "outputs": [],
   "source": [
    "out_path = '/home/kongyue/private-kongyue/paper-RGNN/SOM/models/' + model_name +'_som.p'\n",
    "with open(out_path, 'wb') as outfile:\n",
    "    pickle.dump(som, outfile)"
   ]
  },
  {
   "cell_type": "code",
   "execution_count": null,
   "metadata": {},
   "outputs": [],
   "source": []
  }
 ],
 "metadata": {
  "interpreter": {
   "hash": "49b2cba50d38907653f5f6179ee93dbbfe829b2b1a57849fc3bdeb24d44a8d2b"
  },
  "kernelspec": {
   "display_name": "Python 3.7.10 64-bit ('t': conda)",
   "name": "python3"
  },
  "language_info": {
   "codemirror_mode": {
    "name": "ipython",
    "version": 3
   },
   "file_extension": ".py",
   "mimetype": "text/x-python",
   "name": "python",
   "nbconvert_exporter": "python",
   "pygments_lexer": "ipython3",
   "version": "3.7.10"
  },
  "orig_nbformat": 4
 },
 "nbformat": 4,
 "nbformat_minor": 2
}
